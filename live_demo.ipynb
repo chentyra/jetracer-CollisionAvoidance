{
 "cells": [
  {
   "cell_type": "markdown",
   "metadata": {},
   "source": [
    "# Collision Avoidance - Live Demo\n",
    "In this notebook we'll use the model we trained to detect whether the robot is free or blocked to enable a collision avoidance behavior on the robot. It is assumed that the optimized neural network has already been created and loaded into the Jupyter Lab file browser.\n",
    "\n",
    "## TensorRT"
   ]
  },
  {
   "cell_type": "code",
   "execution_count": null,
   "metadata": {},
   "outputs": [],
   "source": [
    "import cv2\n",
    "import torch\n",
    "from torchvision.models import resnet18\n",
    "from torch2trt import TRTModule\n",
    "from jetracer.nvidia_racecar import NvidiaRacecar\n",
    "from jetcam.csi_camera import CSICamera\n",
    "from utils import preprocess\n",
    "import torch.nn.functional as F\n",
    "import numpy as np\n",
    "import time"
   ]
  },
  {
   "cell_type": "markdown",
   "metadata": {},
   "source": [
    "Load the optimized model by executing the cell below."
   ]
  },
  {
   "cell_type": "code",
   "execution_count": null,
   "metadata": {},
   "outputs": [],
   "source": [
    "model_trt = TRTModule()\n",
    "model_trt.load_state_dict(torch.load('best_model_resnet18_trt.pth'))"
   ]
  },
  {
   "cell_type": "markdown",
   "metadata": {},
   "source": [
    "Inizialize `car` and `camera` objects."
   ]
  },
  {
   "cell_type": "code",
   "execution_count": null,
   "metadata": {},
   "outputs": [],
   "source": [
    "car = NvidiaRacecar()\n",
    "camera = CSICamera(width=224, height=224, capture_fps=65)"
   ]
  },
  {
   "cell_type": "markdown",
   "metadata": {},
   "source": [
    "## Live Demo"
   ]
  },
  {
   "cell_type": "markdown",
   "metadata": {},
   "source": [
    "Due to the JetRacer's limited steering angle and obstacle visibility during the steering process, a specific time interval is required for successful obstacle avoidance. In the suggested demo, the robot will steer for 2 seconds upon obstacle detection. Nevertheless, this value should be dynamically modified to align with specific operational needs."
   ]
  },
  {
   "cell_type": "code",
   "execution_count": null,
   "metadata": {},
   "outputs": [],
   "source": [
    "prob_blocked = 0\n",
    "threshold = 0.5\n",
    "\n",
    "turning = False  # Flag to indicate if the car is turning\n",
    "turn_time = time.time()  # Start a timer\n",
    "\n",
    "while True:\n",
    "    image = camera.read()\n",
    "    image_proc = preprocess(image).half()\n",
    "    output = model_trt(image_proc)\n",
    "    y = F.softmax(output, dim=1)\n",
    "    prob_blocked = float(y.flatten()[0])\n",
    "\n",
    "    if prob_blocked < threshold and not turning:\n",
    "        car.steering = 0.0\n",
    "    else:\n",
    "        if not turning:\n",
    "            car.steering = -0.8  # Choose a steering angle\n",
    "            turning = True  # Set the turning flag\n",
    "            turn_time = time.time()  # Start a timer\n",
    "\n",
    "        if time.time() - turn_time >= 2 and prob_blocked < threshold:\n",
    "            car.steering = 0.0  # Straighten the wheels\n",
    "            turning = False  # Clear the turning flag\n",
    "\n",
    "    car.throttle = 0.18  # Choose car.throttle"
   ]
  }
 ],
 "metadata": {
  "language_info": {
   "name": "python"
  }
 },
 "nbformat": 4,
 "nbformat_minor": 2
}
